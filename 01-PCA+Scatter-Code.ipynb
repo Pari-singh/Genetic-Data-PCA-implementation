{
 "cells": [
  {
   "cell_type": "code",
   "execution_count": 1,
   "metadata": {
    "collapsed": true
   },
   "outputs": [],
   "source": [
    "import numpy as np\n",
    "import pandas as pd\n",
    "import matplotlib.pyplot as plt\n",
    "\n",
    "from sklearn.preprocessing import StandardScaler\n",
    "from matplotlib import*\n",
    "\n",
    "from sklearn.decomposition import PCA "
   ]
  },
  {
   "cell_type": "code",
   "execution_count": 50,
   "metadata": {},
   "outputs": [],
   "source": [
    "data = pd.read_csv('gene_data-.csv')\n",
    "meta = pd.read_csv('Meta-data-sheet.csv')"
   ]
  },
  {
   "cell_type": "code",
   "execution_count": 51,
   "metadata": {},
   "outputs": [
    {
     "data": {
      "text/html": [
       "<div>\n",
       "<style>\n",
       "    .dataframe thead tr:only-child th {\n",
       "        text-align: right;\n",
       "    }\n",
       "\n",
       "    .dataframe thead th {\n",
       "        text-align: left;\n",
       "    }\n",
       "\n",
       "    .dataframe tbody tr th {\n",
       "        vertical-align: top;\n",
       "    }\n",
       "</style>\n",
       "<table border=\"1\" class=\"dataframe\">\n",
       "  <thead>\n",
       "    <tr style=\"text-align: right;\">\n",
       "      <th></th>\n",
       "      <th>sIdx</th>\n",
       "      <th>Time</th>\n",
       "      <th>Unit</th>\n",
       "    </tr>\n",
       "  </thead>\n",
       "  <tbody>\n",
       "    <tr>\n",
       "      <th>0</th>\n",
       "      <td>S1</td>\n",
       "      <td>9</td>\n",
       "      <td>Hours</td>\n",
       "    </tr>\n",
       "    <tr>\n",
       "      <th>1</th>\n",
       "      <td>S2</td>\n",
       "      <td>9</td>\n",
       "      <td>Hours</td>\n",
       "    </tr>\n",
       "    <tr>\n",
       "      <th>2</th>\n",
       "      <td>S3</td>\n",
       "      <td>9</td>\n",
       "      <td>Hours</td>\n",
       "    </tr>\n",
       "    <tr>\n",
       "      <th>3</th>\n",
       "      <td>S4</td>\n",
       "      <td>7</td>\n",
       "      <td>Hours</td>\n",
       "    </tr>\n",
       "    <tr>\n",
       "      <th>4</th>\n",
       "      <td>S5</td>\n",
       "      <td>7</td>\n",
       "      <td>Hours</td>\n",
       "    </tr>\n",
       "  </tbody>\n",
       "</table>\n",
       "</div>"
      ],
      "text/plain": [
       "  sIdx  Time   Unit\n",
       "0   S1     9  Hours\n",
       "1   S2     9  Hours\n",
       "2   S3     9  Hours\n",
       "3   S4     7  Hours\n",
       "4   S5     7  Hours"
      ]
     },
     "execution_count": 51,
     "metadata": {},
     "output_type": "execute_result"
    }
   ],
   "source": [
    "meta.head()"
   ]
  },
  {
   "cell_type": "code",
   "execution_count": 3,
   "metadata": {},
   "outputs": [
    {
     "data": {
      "text/html": [
       "<div>\n",
       "<style>\n",
       "    .dataframe thead tr:only-child th {\n",
       "        text-align: right;\n",
       "    }\n",
       "\n",
       "    .dataframe thead th {\n",
       "        text-align: left;\n",
       "    }\n",
       "\n",
       "    .dataframe tbody tr th {\n",
       "        vertical-align: top;\n",
       "    }\n",
       "</style>\n",
       "<table border=\"1\" class=\"dataframe\">\n",
       "  <thead>\n",
       "    <tr style=\"text-align: right;\">\n",
       "      <th></th>\n",
       "      <th>Unnamed: 0</th>\n",
       "      <th>symbol</th>\n",
       "      <th>S1</th>\n",
       "      <th>S2</th>\n",
       "      <th>S3</th>\n",
       "      <th>S4</th>\n",
       "      <th>S5</th>\n",
       "      <th>S6</th>\n",
       "      <th>S7</th>\n",
       "      <th>S8</th>\n",
       "      <th>...</th>\n",
       "      <th>S21</th>\n",
       "      <th>S22</th>\n",
       "      <th>S23</th>\n",
       "      <th>S24</th>\n",
       "      <th>S25</th>\n",
       "      <th>S26</th>\n",
       "      <th>S27</th>\n",
       "      <th>S28</th>\n",
       "      <th>S29</th>\n",
       "      <th>S30</th>\n",
       "    </tr>\n",
       "  </thead>\n",
       "  <tbody>\n",
       "    <tr>\n",
       "      <th>0</th>\n",
       "      <td>1</td>\n",
       "      <td>Zzz3</td>\n",
       "      <td>253.401685</td>\n",
       "      <td>402.8508776</td>\n",
       "      <td>230.957463</td>\n",
       "      <td>688.486264</td>\n",
       "      <td>358.067836</td>\n",
       "      <td>344.962350</td>\n",
       "      <td>441.155001</td>\n",
       "      <td>301.149694</td>\n",
       "      <td>...</td>\n",
       "      <td>507.882774</td>\n",
       "      <td>465.081486</td>\n",
       "      <td>415.478767</td>\n",
       "      <td>297.061149</td>\n",
       "      <td>488.848114</td>\n",
       "      <td>367.912141</td>\n",
       "      <td>307.199908</td>\n",
       "      <td>347.802509</td>\n",
       "      <td>411.227261</td>\n",
       "      <td>283.709694</td>\n",
       "    </tr>\n",
       "    <tr>\n",
       "      <th>1</th>\n",
       "      <td>2</td>\n",
       "      <td>Zzef1</td>\n",
       "      <td>21.152797</td>\n",
       "      <td>21.15279694</td>\n",
       "      <td>21.152797</td>\n",
       "      <td>21.152797</td>\n",
       "      <td>21.152797</td>\n",
       "      <td>21.152797</td>\n",
       "      <td>21.152797</td>\n",
       "      <td>21.152797</td>\n",
       "      <td>...</td>\n",
       "      <td>21.152797</td>\n",
       "      <td>21.152797</td>\n",
       "      <td>21.152797</td>\n",
       "      <td>21.152797</td>\n",
       "      <td>21.152797</td>\n",
       "      <td>21.152797</td>\n",
       "      <td>21.152797</td>\n",
       "      <td>21.152797</td>\n",
       "      <td>21.152797</td>\n",
       "      <td>21.152797</td>\n",
       "    </tr>\n",
       "    <tr>\n",
       "      <th>2</th>\n",
       "      <td>3</td>\n",
       "      <td>Zyx</td>\n",
       "      <td>40.578958</td>\n",
       "      <td>49.23516006</td>\n",
       "      <td>59.472005</td>\n",
       "      <td>46.212152</td>\n",
       "      <td>61.969671</td>\n",
       "      <td>55.732843</td>\n",
       "      <td>53.819870</td>\n",
       "      <td>54.315691</td>\n",
       "      <td>...</td>\n",
       "      <td>33.512262</td>\n",
       "      <td>36.751853</td>\n",
       "      <td>36.952457</td>\n",
       "      <td>35.718610</td>\n",
       "      <td>27.346198</td>\n",
       "      <td>32.647887</td>\n",
       "      <td>42.006833</td>\n",
       "      <td>32.324596</td>\n",
       "      <td>41.426033</td>\n",
       "      <td>32.754971</td>\n",
       "    </tr>\n",
       "    <tr>\n",
       "      <th>3</th>\n",
       "      <td>4</td>\n",
       "      <td>Zyg11b</td>\n",
       "      <td>26.373102</td>\n",
       "      <td>35.00190057</td>\n",
       "      <td>32.389728</td>\n",
       "      <td>34.932372</td>\n",
       "      <td>35.192365</td>\n",
       "      <td>33.858459</td>\n",
       "      <td>27.948378</td>\n",
       "      <td>21.152797</td>\n",
       "      <td>...</td>\n",
       "      <td>21.152797</td>\n",
       "      <td>21.152797</td>\n",
       "      <td>21.152797</td>\n",
       "      <td>21.152797</td>\n",
       "      <td>21.152797</td>\n",
       "      <td>21.152797</td>\n",
       "      <td>21.152797</td>\n",
       "      <td>21.152797</td>\n",
       "      <td>21.152797</td>\n",
       "      <td>21.152797</td>\n",
       "    </tr>\n",
       "    <tr>\n",
       "      <th>4</th>\n",
       "      <td>5</td>\n",
       "      <td>Zyg11a</td>\n",
       "      <td>21.152797</td>\n",
       "      <td>21.15279694</td>\n",
       "      <td>21.152797</td>\n",
       "      <td>21.152797</td>\n",
       "      <td>21.152797</td>\n",
       "      <td>21.152797</td>\n",
       "      <td>21.152797</td>\n",
       "      <td>21.152797</td>\n",
       "      <td>...</td>\n",
       "      <td>21.152797</td>\n",
       "      <td>21.152797</td>\n",
       "      <td>21.152797</td>\n",
       "      <td>21.152797</td>\n",
       "      <td>21.152797</td>\n",
       "      <td>21.152797</td>\n",
       "      <td>21.152797</td>\n",
       "      <td>21.152797</td>\n",
       "      <td>21.152797</td>\n",
       "      <td>21.152797</td>\n",
       "    </tr>\n",
       "  </tbody>\n",
       "</table>\n",
       "<p>5 rows × 32 columns</p>\n",
       "</div>"
      ],
      "text/plain": [
       "   Unnamed: 0  symbol          S1           S2          S3          S4  \\\n",
       "0           1    Zzz3  253.401685  402.8508776  230.957463  688.486264   \n",
       "1           2   Zzef1   21.152797  21.15279694   21.152797   21.152797   \n",
       "2           3     Zyx   40.578958  49.23516006   59.472005   46.212152   \n",
       "3           4  Zyg11b   26.373102  35.00190057   32.389728   34.932372   \n",
       "4           5  Zyg11a   21.152797  21.15279694   21.152797   21.152797   \n",
       "\n",
       "           S5          S6          S7          S8     ...             S21  \\\n",
       "0  358.067836  344.962350  441.155001  301.149694     ...      507.882774   \n",
       "1   21.152797   21.152797   21.152797   21.152797     ...       21.152797   \n",
       "2   61.969671   55.732843   53.819870   54.315691     ...       33.512262   \n",
       "3   35.192365   33.858459   27.948378   21.152797     ...       21.152797   \n",
       "4   21.152797   21.152797   21.152797   21.152797     ...       21.152797   \n",
       "\n",
       "          S22         S23         S24         S25         S26         S27  \\\n",
       "0  465.081486  415.478767  297.061149  488.848114  367.912141  307.199908   \n",
       "1   21.152797   21.152797   21.152797   21.152797   21.152797   21.152797   \n",
       "2   36.751853   36.952457   35.718610   27.346198   32.647887   42.006833   \n",
       "3   21.152797   21.152797   21.152797   21.152797   21.152797   21.152797   \n",
       "4   21.152797   21.152797   21.152797   21.152797   21.152797   21.152797   \n",
       "\n",
       "          S28         S29         S30  \n",
       "0  347.802509  411.227261  283.709694  \n",
       "1   21.152797   21.152797   21.152797  \n",
       "2   32.324596   41.426033   32.754971  \n",
       "3   21.152797   21.152797   21.152797  \n",
       "4   21.152797   21.152797   21.152797  \n",
       "\n",
       "[5 rows x 32 columns]"
      ]
     },
     "execution_count": 3,
     "metadata": {},
     "output_type": "execute_result"
    }
   ],
   "source": [
    "data.head()"
   ]
  },
  {
   "cell_type": "code",
   "execution_count": 4,
   "metadata": {},
   "outputs": [
    {
     "data": {
      "text/plain": [
       "22329"
      ]
     },
     "execution_count": 4,
     "metadata": {},
     "output_type": "execute_result"
    }
   ],
   "source": [
    "len(data['symbol'].unique())"
   ]
  },
  {
   "cell_type": "code",
   "execution_count": 5,
   "metadata": {},
   "outputs": [
    {
     "data": {
      "text/plain": [
       "22411"
      ]
     },
     "execution_count": 5,
     "metadata": {},
     "output_type": "execute_result"
    }
   ],
   "source": [
    "len(data)"
   ]
  },
  {
   "cell_type": "code",
   "execution_count": 6,
   "metadata": {
    "collapsed": true
   },
   "outputs": [],
   "source": [
    "dta_ch = data.iloc[:,2:]"
   ]
  },
  {
   "cell_type": "code",
   "execution_count": 7,
   "metadata": {
    "collapsed": true
   },
   "outputs": [],
   "source": [
    "dta_ch=dta_ch.replace({'ssssss': '39.0', 'hhhh' : '321.43'}, regex=True)"
   ]
  },
  {
   "cell_type": "code",
   "execution_count": 8,
   "metadata": {},
   "outputs": [
    {
     "data": {
      "text/html": [
       "<div>\n",
       "<style>\n",
       "    .dataframe thead tr:only-child th {\n",
       "        text-align: right;\n",
       "    }\n",
       "\n",
       "    .dataframe thead th {\n",
       "        text-align: left;\n",
       "    }\n",
       "\n",
       "    .dataframe tbody tr th {\n",
       "        vertical-align: top;\n",
       "    }\n",
       "</style>\n",
       "<table border=\"1\" class=\"dataframe\">\n",
       "  <thead>\n",
       "    <tr style=\"text-align: right;\">\n",
       "      <th></th>\n",
       "      <th>S1</th>\n",
       "      <th>S2</th>\n",
       "      <th>S3</th>\n",
       "      <th>S4</th>\n",
       "      <th>S5</th>\n",
       "      <th>S6</th>\n",
       "      <th>S7</th>\n",
       "      <th>S8</th>\n",
       "      <th>S9</th>\n",
       "      <th>S10</th>\n",
       "      <th>...</th>\n",
       "      <th>S21</th>\n",
       "      <th>S22</th>\n",
       "      <th>S23</th>\n",
       "      <th>S24</th>\n",
       "      <th>S25</th>\n",
       "      <th>S26</th>\n",
       "      <th>S27</th>\n",
       "      <th>S28</th>\n",
       "      <th>S29</th>\n",
       "      <th>S30</th>\n",
       "    </tr>\n",
       "  </thead>\n",
       "  <tbody>\n",
       "    <tr>\n",
       "      <th>0</th>\n",
       "      <td>253.401685</td>\n",
       "      <td>402.8508776</td>\n",
       "      <td>230.957463</td>\n",
       "      <td>688.486264</td>\n",
       "      <td>358.067836</td>\n",
       "      <td>344.962350</td>\n",
       "      <td>441.155001</td>\n",
       "      <td>301.149694</td>\n",
       "      <td>390.361685</td>\n",
       "      <td>431.707182</td>\n",
       "      <td>...</td>\n",
       "      <td>507.882774</td>\n",
       "      <td>465.081486</td>\n",
       "      <td>415.478767</td>\n",
       "      <td>297.061149</td>\n",
       "      <td>488.848114</td>\n",
       "      <td>367.912141</td>\n",
       "      <td>307.199908</td>\n",
       "      <td>347.802509</td>\n",
       "      <td>411.227261</td>\n",
       "      <td>283.709694</td>\n",
       "    </tr>\n",
       "    <tr>\n",
       "      <th>1</th>\n",
       "      <td>21.152797</td>\n",
       "      <td>21.15279694</td>\n",
       "      <td>21.152797</td>\n",
       "      <td>21.152797</td>\n",
       "      <td>21.152797</td>\n",
       "      <td>21.152797</td>\n",
       "      <td>21.152797</td>\n",
       "      <td>21.152797</td>\n",
       "      <td>21.152797</td>\n",
       "      <td>21.152797</td>\n",
       "      <td>...</td>\n",
       "      <td>21.152797</td>\n",
       "      <td>21.152797</td>\n",
       "      <td>21.152797</td>\n",
       "      <td>21.152797</td>\n",
       "      <td>21.152797</td>\n",
       "      <td>21.152797</td>\n",
       "      <td>21.152797</td>\n",
       "      <td>21.152797</td>\n",
       "      <td>21.152797</td>\n",
       "      <td>21.152797</td>\n",
       "    </tr>\n",
       "    <tr>\n",
       "      <th>2</th>\n",
       "      <td>40.578958</td>\n",
       "      <td>49.23516006</td>\n",
       "      <td>59.472005</td>\n",
       "      <td>46.212152</td>\n",
       "      <td>61.969671</td>\n",
       "      <td>55.732843</td>\n",
       "      <td>53.819870</td>\n",
       "      <td>54.315691</td>\n",
       "      <td>73.016585</td>\n",
       "      <td>51.144296</td>\n",
       "      <td>...</td>\n",
       "      <td>33.512262</td>\n",
       "      <td>36.751853</td>\n",
       "      <td>36.952457</td>\n",
       "      <td>35.718610</td>\n",
       "      <td>27.346198</td>\n",
       "      <td>32.647887</td>\n",
       "      <td>42.006833</td>\n",
       "      <td>32.324596</td>\n",
       "      <td>41.426033</td>\n",
       "      <td>32.754971</td>\n",
       "    </tr>\n",
       "    <tr>\n",
       "      <th>3</th>\n",
       "      <td>26.373102</td>\n",
       "      <td>35.00190057</td>\n",
       "      <td>32.389728</td>\n",
       "      <td>34.932372</td>\n",
       "      <td>35.192365</td>\n",
       "      <td>33.858459</td>\n",
       "      <td>27.948378</td>\n",
       "      <td>21.152797</td>\n",
       "      <td>32.283053</td>\n",
       "      <td>30.057553</td>\n",
       "      <td>...</td>\n",
       "      <td>21.152797</td>\n",
       "      <td>21.152797</td>\n",
       "      <td>21.152797</td>\n",
       "      <td>21.152797</td>\n",
       "      <td>21.152797</td>\n",
       "      <td>21.152797</td>\n",
       "      <td>21.152797</td>\n",
       "      <td>21.152797</td>\n",
       "      <td>21.152797</td>\n",
       "      <td>21.152797</td>\n",
       "    </tr>\n",
       "    <tr>\n",
       "      <th>4</th>\n",
       "      <td>21.152797</td>\n",
       "      <td>21.15279694</td>\n",
       "      <td>21.152797</td>\n",
       "      <td>21.152797</td>\n",
       "      <td>21.152797</td>\n",
       "      <td>21.152797</td>\n",
       "      <td>21.152797</td>\n",
       "      <td>21.152797</td>\n",
       "      <td>21.152797</td>\n",
       "      <td>21.152797</td>\n",
       "      <td>...</td>\n",
       "      <td>21.152797</td>\n",
       "      <td>21.152797</td>\n",
       "      <td>21.152797</td>\n",
       "      <td>21.152797</td>\n",
       "      <td>21.152797</td>\n",
       "      <td>21.152797</td>\n",
       "      <td>21.152797</td>\n",
       "      <td>21.152797</td>\n",
       "      <td>21.152797</td>\n",
       "      <td>21.152797</td>\n",
       "    </tr>\n",
       "  </tbody>\n",
       "</table>\n",
       "<p>5 rows × 30 columns</p>\n",
       "</div>"
      ],
      "text/plain": [
       "           S1           S2          S3          S4          S5          S6  \\\n",
       "0  253.401685  402.8508776  230.957463  688.486264  358.067836  344.962350   \n",
       "1   21.152797  21.15279694   21.152797   21.152797   21.152797   21.152797   \n",
       "2   40.578958  49.23516006   59.472005   46.212152   61.969671   55.732843   \n",
       "3   26.373102  35.00190057   32.389728   34.932372   35.192365   33.858459   \n",
       "4   21.152797  21.15279694   21.152797   21.152797   21.152797   21.152797   \n",
       "\n",
       "           S7          S8          S9         S10     ...             S21  \\\n",
       "0  441.155001  301.149694  390.361685  431.707182     ...      507.882774   \n",
       "1   21.152797   21.152797   21.152797   21.152797     ...       21.152797   \n",
       "2   53.819870   54.315691   73.016585   51.144296     ...       33.512262   \n",
       "3   27.948378   21.152797   32.283053   30.057553     ...       21.152797   \n",
       "4   21.152797   21.152797   21.152797   21.152797     ...       21.152797   \n",
       "\n",
       "          S22         S23         S24         S25         S26         S27  \\\n",
       "0  465.081486  415.478767  297.061149  488.848114  367.912141  307.199908   \n",
       "1   21.152797   21.152797   21.152797   21.152797   21.152797   21.152797   \n",
       "2   36.751853   36.952457   35.718610   27.346198   32.647887   42.006833   \n",
       "3   21.152797   21.152797   21.152797   21.152797   21.152797   21.152797   \n",
       "4   21.152797   21.152797   21.152797   21.152797   21.152797   21.152797   \n",
       "\n",
       "          S28         S29         S30  \n",
       "0  347.802509  411.227261  283.709694  \n",
       "1   21.152797   21.152797   21.152797  \n",
       "2   32.324596   41.426033   32.754971  \n",
       "3   21.152797   21.152797   21.152797  \n",
       "4   21.152797   21.152797   21.152797  \n",
       "\n",
       "[5 rows x 30 columns]"
      ]
     },
     "execution_count": 8,
     "metadata": {},
     "output_type": "execute_result"
    }
   ],
   "source": [
    "dta_ch.head()"
   ]
  },
  {
   "cell_type": "code",
   "execution_count": 31,
   "metadata": {
    "collapsed": true
   },
   "outputs": [],
   "source": [
    "X=dta_ch.values\n",
    "X=X.astype(float)"
   ]
  },
  {
   "cell_type": "code",
   "execution_count": 32,
   "metadata": {
    "collapsed": true
   },
   "outputs": [],
   "source": [
    "X[np.isnan(X)] = np.median(X[~np.isnan(X)])"
   ]
  },
  {
   "cell_type": "code",
   "execution_count": 33,
   "metadata": {},
   "outputs": [
    {
     "data": {
      "text/plain": [
       "(22411, 30)"
      ]
     },
     "execution_count": 33,
     "metadata": {},
     "output_type": "execute_result"
    }
   ],
   "source": [
    "X.shape"
   ]
  },
  {
   "cell_type": "code",
   "execution_count": 34,
   "metadata": {},
   "outputs": [
    {
     "data": {
      "text/plain": [
       "(30, 22411)"
      ]
     },
     "execution_count": 34,
     "metadata": {},
     "output_type": "execute_result"
    }
   ],
   "source": [
    "X = X.T\n",
    "X.shape"
   ]
  },
  {
   "cell_type": "code",
   "execution_count": 35,
   "metadata": {},
   "outputs": [],
   "source": [
    "X_std = StandardScaler().fit_transform(X)"
   ]
  },
  {
   "cell_type": "code",
   "execution_count": 36,
   "metadata": {},
   "outputs": [
    {
     "data": {
      "text/plain": [
       "PCA(copy=True, iterated_power='auto', n_components=2, random_state=None,\n",
       "  svd_solver='auto', tol=0.0, whiten=False)"
      ]
     },
     "execution_count": 36,
     "metadata": {},
     "output_type": "execute_result"
    }
   ],
   "source": [
    "pca = PCA(n_components=2)\n",
    "pca.fit(X_std)"
   ]
  },
  {
   "cell_type": "code",
   "execution_count": 37,
   "metadata": {},
   "outputs": [
    {
     "data": {
      "image/png": "[encoded data removed]",
      "text/plain": [
       "<matplotlib.figure.Figure at 0x1100170d0>"
      ]
     },
     "metadata": {},
     "output_type": "display_data"
    }
   ],
   "source": [
    "var= pca.explained_variance_ratio_\n",
    "var1=np.cumsum(np.round(pca.explained_variance_ratio_, decimals=4)*100)\n",
    "plt.plot(var1)\n",
    "plt.show()"
   ]
  },
  {
   "cell_type": "code",
   "execution_count": 38,
   "metadata": {},
   "outputs": [],
   "source": [
    "y = pca.components_"
   ]
  },
  {
   "cell_type": "code",
   "execution_count": 39,
   "metadata": {},
   "outputs": [
    {
     "data": {
      "text/plain": [
       "(2, 22411)"
      ]
     },
     "execution_count": 39,
     "metadata": {},
     "output_type": "execute_result"
    }
   ],
   "source": [
    "y.shape"
   ]
  },
  {
   "cell_type": "code",
   "execution_count": 40,
   "metadata": {},
   "outputs": [],
   "source": [
    "z = pca.explained_variance_"
   ]
  },
  {
   "cell_type": "code",
   "execution_count": 41,
   "metadata": {},
   "outputs": [
    {
     "name": "stdout",
     "output_type": "stream",
     "text": [
      "5141.70261892\n"
     ]
    }
   ],
   "source": [
    "a = 0.0\n",
    "for i in range(len(z)):\n",
    "    a = a+ float(z[i])\n",
    "print a"
   ]
  },
  {
   "cell_type": "code",
   "execution_count": 42,
   "metadata": {
    "collapsed": true
   },
   "outputs": [],
   "source": [
    "xn = pca.fit_transform(X)"
   ]
  },
  {
   "cell_type": "code",
   "execution_count": 43,
   "metadata": {},
   "outputs": [
    {
     "data": {
      "text/plain": [
       "(30, 2)"
      ]
     },
     "execution_count": 43,
     "metadata": {},
     "output_type": "execute_result"
    }
   ],
   "source": [
    "xn.shape"
   ]
  },
  {
   "cell_type": "code",
   "execution_count": 52,
   "metadata": {
    "collapsed": true
   },
   "outputs": [],
   "source": [
    "target = np.array(meta['Time'])"
   ]
  },
  {
   "cell_type": "code",
   "execution_count": 61,
   "metadata": {
    "collapsed": true
   },
   "outputs": [],
   "source": [
    "x_min, x_max = xn[:, 0].min() - 10000, xn[:, 0].max() + 10000\n",
    "y_min, y_max = xn[:, 1].min() - 10000, xn[:, 1].max() + 10000"
   ]
  },
  {
   "cell_type": "code",
   "execution_count": 62,
   "metadata": {},
   "outputs": [
    {
     "data": {
      "image/png": "[encoded data removed]",
      "text/plain": [
       "<matplotlib.figure.Figure at 0x10e224210>"
      ]
     },
     "metadata": {},
     "output_type": "display_data"
    }
   ],
   "source": [
    "plt.figure(figsize= (15,10))\n",
    "\n",
    "plt.scatter(xn[:, 0], xn[:, 1], c=target, cmap=plt.cm.Set1,\n",
    "            edgecolor='k')\n",
    "plt.xlabel('PC1')\n",
    "plt.ylabel('PC2')\n",
    "\n",
    "plt.xlim(x_min, x_max)\n",
    "plt.ylim(y_min, y_max)\n",
    "plt.xticks(())\n",
    "plt.yticks(())\n",
    "\n",
    "plt.show()"
   ]
  },
  {
   "cell_type": "code",
   "execution_count": 69,
   "metadata": {
    "collapsed": true
   },
   "outputs": [],
   "source": [
    "import seaborn as sns"
   ]
  },
  {
   "cell_type": "code",
   "execution_count": 70,
   "metadata": {
    "collapsed": true
   },
   "outputs": [],
   "source": [
    "xx = list(xn[:, 0])\n",
    "yy = list(xn[:, 1])"
   ]
  },
  {
   "cell_type": "code",
   "execution_count": 72,
   "metadata": {},
   "outputs": [
    {
     "data": {
      "text/html": [
       "<div>\n",
       "<style>\n",
       "    .dataframe thead tr:only-child th {\n",
       "        text-align: right;\n",
       "    }\n",
       "\n",
       "    .dataframe thead th {\n",
       "        text-align: left;\n",
       "    }\n",
       "\n",
       "    .dataframe tbody tr th {\n",
       "        vertical-align: top;\n",
       "    }\n",
       "</style>\n",
       "<table border=\"1\" class=\"dataframe\">\n",
       "  <thead>\n",
       "    <tr style=\"text-align: right;\">\n",
       "      <th></th>\n",
       "      <th>PC1</th>\n",
       "      <th>PC2</th>\n",
       "      <th>Target</th>\n",
       "    </tr>\n",
       "  </thead>\n",
       "  <tbody>\n",
       "    <tr>\n",
       "      <th>0</th>\n",
       "      <td>-112801.229806</td>\n",
       "      <td>3096.105410</td>\n",
       "      <td>9</td>\n",
       "    </tr>\n",
       "    <tr>\n",
       "      <th>1</th>\n",
       "      <td>-99478.859519</td>\n",
       "      <td>-30691.072652</td>\n",
       "      <td>9</td>\n",
       "    </tr>\n",
       "    <tr>\n",
       "      <th>2</th>\n",
       "      <td>-93499.844801</td>\n",
       "      <td>-36451.523104</td>\n",
       "      <td>9</td>\n",
       "    </tr>\n",
       "    <tr>\n",
       "      <th>3</th>\n",
       "      <td>-94632.244864</td>\n",
       "      <td>2917.211251</td>\n",
       "      <td>7</td>\n",
       "    </tr>\n",
       "    <tr>\n",
       "      <th>4</th>\n",
       "      <td>-69413.358331</td>\n",
       "      <td>-72623.405429</td>\n",
       "      <td>7</td>\n",
       "    </tr>\n",
       "  </tbody>\n",
       "</table>\n",
       "</div>"
      ],
      "text/plain": [
       "             PC1           PC2  Target\n",
       "0 -112801.229806   3096.105410       9\n",
       "1  -99478.859519 -30691.072652       9\n",
       "2  -93499.844801 -36451.523104       9\n",
       "3  -94632.244864   2917.211251       7\n",
       "4  -69413.358331 -72623.405429       7"
      ]
     },
     "execution_count": 72,
     "metadata": {},
     "output_type": "execute_result"
    }
   ],
   "source": [
    "d = {'PC1':xx , 'PC2': yy,'Target': target }\n",
    "df = pd.DataFrame(data=d)\n",
    "df.head()"
   ]
  },
  {
   "cell_type": "code",
   "execution_count": 75,
   "metadata": {},
   "outputs": [
    {
     "data": {
      "image/png": "[encoded data removed]",
      "text/plain": [
       "<matplotlib.figure.Figure at 0x11888bd90>"
      ]
     },
     "metadata": {},
     "output_type": "display_data"
    }
   ],
   "source": [
    "sns.pairplot(df, hue=\"Target\")\n",
    "plt.show()"
   ]
  },
  {
   "cell_type": "code",
   "execution_count": null,
   "metadata": {
    "collapsed": true
   },
   "outputs": [],
   "source": []
  }
 ],
 "metadata": {
  "kernelspec": {
   "display_name": "Python 2",
   "language": "python",
   "name": "python2"
  },
  "language_info": {
   "codemirror_mode": {
    "name": "ipython",
    "version": 2
   },
   "file_extension": ".py",
   "mimetype": "text/x-python",
   "name": "python",
   "nbconvert_exporter": "python",
   "pygments_lexer": "ipython2",
   "version": "2.7.13"
  }
 },
 "nbformat": 4,
 "nbformat_minor": 2
}
